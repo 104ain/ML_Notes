{
 "cells": [
  {
   "cell_type": "markdown",
   "metadata": {},
   "source": [
    "这一节也在中文分词上看看效果，分词原理以及数据集与之前的[《12_11_PGM_HMM_隐马模型实战：中文分词》](https://nbviewer.jupyter.org/github/zhulei227/ML_Notes/blob/master/notebooks/12_11_PGM_HMM_%E9%9A%90%E9%A9%AC%E6%A8%A1%E5%9E%8B%E5%AE%9E%E6%88%98%EF%BC%9A%E4%B8%AD%E6%96%87%E5%88%86%E8%AF%8D.ipynb)一样，下面直接看看实践效果"
   ]
  },
  {
   "cell_type": "code",
   "execution_count": 1,
   "metadata": {},
   "outputs": [],
   "source": [
    "visible_seqs=[]\n",
    "hidden_seqs=[]\n",
    "char2idx={}\n",
    "idx2hidden={0:\"B\",1:\"M\",2:\"E\",3:\"S\"}"
   ]
  },
  {
   "cell_type": "code",
   "execution_count": 2,
   "metadata": {},
   "outputs": [],
   "source": [
    "count=0\n",
    "for line in open(\"./data/people_daily_mini.txt\",encoding=\"utf8\"):\n",
    "    visible_seq=[]\n",
    "    hidden_seq=[]\n",
    "    arrs=line.strip().split(\" \")\n",
    "    for item in arrs:\n",
    "        if len(item)==1:\n",
    "            hidden_seq.append(3)\n",
    "        elif len(item)==2:\n",
    "            hidden_seq.extend([0,2])\n",
    "        else:\n",
    "            hidden_seq.extend([0]+[1]*(len(item)-2)+[2])\n",
    "        for c in item:\n",
    "            if c in char2idx:\n",
    "                visible_seq.append(char2idx[c])\n",
    "            else:\n",
    "                char2idx[c]=count\n",
    "                visible_seq.append(count)\n",
    "                count+=1\n",
    "        visible_seqs.append(visible_seq)\n",
    "        hidden_seqs.append(hidden_seq)"
   ]
  },
  {
   "cell_type": "code",
   "execution_count": 3,
   "metadata": {},
   "outputs": [
    {
     "data": {
      "text/plain": [
       "(1087083, 1087083, 4656)"
      ]
     },
     "execution_count": 3,
     "metadata": {},
     "output_type": "execute_result"
    }
   ],
   "source": [
    "len(visible_seqs),len(hidden_seqs),len(char2idx)"
   ]
  },
  {
   "cell_type": "markdown",
   "metadata": {},
   "source": [
    "训练模型，请耐心等待...哈哈~~~"
   ]
  },
  {
   "cell_type": "code",
   "execution_count": 4,
   "metadata": {},
   "outputs": [],
   "source": [
    "import os\n",
    "os.chdir('../')\n",
    "from ml_models.pgm import CRF"
   ]
  },
  {
   "cell_type": "code",
   "execution_count": null,
   "metadata": {},
   "outputs": [
    {
     "name": "stdout",
     "output_type": "stream",
     "text": [
      "构造特征函数...\n"
     ]
    },
    {
     "name": "stderr",
     "output_type": "stream",
     "text": [
      " 36%|█████████████████████████▍                                             | 390160/1087083 [04:28<07:58, 1455.67it/s]"
     ]
    }
   ],
   "source": [
    "crf=CRF(output_status_num=4,input_status_num=len(char2idx),epochs=10)\n",
    "crf.fit(visible_seqs,hidden_seqs)"
   ]
  },
  {
   "cell_type": "markdown",
   "metadata": {},
   "source": [
    "看看分词效果"
   ]
  },
  {
   "cell_type": "code",
   "execution_count": null,
   "metadata": {},
   "outputs": [],
   "source": [
    "def seg(vis,hid):\n",
    "    rst=[]\n",
    "    for i in range(0,len(hid)):\n",
    "        if hid[i] in [2,3]:\n",
    "            rst.append(vis[i])\n",
    "            rst.append(\"   \")\n",
    "        else:\n",
    "            rst.append(vis[i])\n",
    "    return \"\".join(rst)"
   ]
  },
  {
   "cell_type": "code",
   "execution_count": null,
   "metadata": {},
   "outputs": [],
   "source": [
    "seq=\"我和我的祖国，一刻也不能分离\"\n",
    "seg(seq,crf.predict([char2idx[c] for c in seq]))"
   ]
  },
  {
   "cell_type": "code",
   "execution_count": null,
   "metadata": {},
   "outputs": [],
   "source": []
  }
 ],
 "metadata": {
  "kernelspec": {
   "display_name": "Python 3",
   "language": "python",
   "name": "python3"
  },
  "language_info": {
   "codemirror_mode": {
    "name": "ipython",
    "version": 3
   },
   "file_extension": ".py",
   "mimetype": "text/x-python",
   "name": "python",
   "nbconvert_exporter": "python",
   "pygments_lexer": "ipython3",
   "version": "3.6.4"
  }
 },
 "nbformat": 4,
 "nbformat_minor": 2
}
