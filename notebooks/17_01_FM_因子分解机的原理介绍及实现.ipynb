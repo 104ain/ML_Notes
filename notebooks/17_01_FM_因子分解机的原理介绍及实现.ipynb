{
 "cells": [
  {
   "cell_type": "markdown",
   "metadata": {},
   "source": [
    "FM(Factorization Machine)系列主要参考美团的[《深入FFM原理与实践》](https://tech.meituan.com/2016/03/03/deep-understanding-of-ffm-principles-and-practices.html)这篇博客内容做介绍并实现，首先介绍一下原理"
   ]
  },
  {
   "cell_type": "markdown",
   "metadata": {},
   "source": [
    "### 一.FM原理\n",
    "大家可能用过sklearn中的这个多项式特征处理函数：*`sklearn.preprocessing.PolynomialFeatures`*，它作用是就是将原始特征扩展为多项式特征，比如原始特征为$a,b$，那么它会做如下扩展：   \n",
    "\n",
    "$$\n",
    "[a,b]\\rightarrow [1,a,b,a^2,ab,b^2]\n",
    "$$  \n",
    "\n",
    "而FM的初衷便是对这组新特征做线性建模，一般地，它可以表示如下：   \n",
    "\n",
    "$$\n",
    "y(x)=w_0+\\sum_{i=1}^nw_ix_i+\\sum_{i=1}^{n-1}\\sum_{j=i+1}^nw_{ij}x_ix_j\n",
    "$$  \n",
    "\n",
    "FM通常不会对平方项建模（比如上面的$a^2,b^2$），这里$n$代表样本的特征数量，$x_i$是第$i$个特征值，$w_0,w_i,w_{ij}$是模型参数，到这里大家可能会有疑惑，我们干嘛不先通过多项式特征处理函数做转换，然后再接着做一个线性回归或者logistic回归之类的不就行了吗？那这个...FM拿它何用？如果按照刚刚的操作其实是有很大问题的，主要有两点问题：    \n",
    "\n",
    "（1）**参数爆炸**；   \n",
    "\n",
    "（2）**高维稀疏**；  \n",
    "\n",
    "第一点比较容易理解，对于$n$个特征，$w_{ij}$将会有$\\frac{n(n-1)}{2}$项，形象点说就是平常随意用到的100个特征，扩展后将会有5000个，而参数越多，如果没有足够的数据做训练，模型很容易陷入过拟合，而对于第二点，经常处理离散特征的同学会很容易理解，比如下图\n",
    "![avatar](./source/17_FM_one-hot1.png)  \n",
    "\n",
    "包含有三个特征（最左侧的是标签），且都是离散特征，而对于离散特征我们经常做的一种操作便是one-hot转换，转换后的结果如下图：   \n",
    "\n",
    "![avatar](./source/17_FM_one-hot2.png)  \n",
    "\n",
    "如果我们在对这些特征做多项式转换，可以发现转后的20多个特征中，仅仅只有3个非零特征，这就意味着绝大部分的$x_ix_j$将会是0，而损失函数关于$w_{ij}$的导数必然会包含有$x_ix_j$这一项，这就意味$w_{ij}$大部分情况下就是个摆设，很难被更新到，而FM便可以解决这两个问题，它假设$w_{ij}$由两个向量的内积生成：   \n",
    "\n",
    "$$\n",
    "w_{ij}:=<v_i,v_j>\n",
    "$$  \n",
    "\n",
    "这里，$v_i$表示第$i$个特征的隐向量，其向量长度为$k(k<<n)$，通常$k=4$即可，这时FM模型方程如下：   \n",
    "\n",
    "$$\n",
    "y(x)=w_0+\\sum_{i=1}^nw_ix_i+\\sum_{i=1}^{n-1}\\sum_{j=i+1}^n<v_i,v_j>x_ix_j\n",
    "$$   \n",
    "进一步的，我们可以将其化简为如下形式：   \n",
    "\n",
    "$$\n",
    "y(x)=w_0+\\sum_{i=1}^nw_ix_i+\\frac{1}{2}\\sum_{f=1}^k((\\sum_{i=1}^nv_{i,f}x_i)^2-\\sum_{i=1}^nv_{i,f}^2x_i^2)\n",
    "$$  \n",
    "\n",
    "这里，$v_{i,f}$表示向量$v_i$的第$f$个元素，上述化简用到了这样的关系：$ab+ac+bc=\\frac{1}{2}((a+b+c)^2-(a^2+b^2+c^2))$，接下来我们可以进一步看看梯度：   \n",
    "\n",
    "$$\n",
    "\\frac{\\partial}{\\partial\\theta}y(x)=\\left\\{\\begin{matrix}\n",
    "1 &\\theta=w_0 \\\\ \n",
    "x_i &\\theta=w_i \\\\ \n",
    "x_i\\sum_{j=1}^nv_{j,f}x_j-v_{i,f}x_i^2 & \\theta=v_{i,f}\n",
    "\\end{matrix}\\right.\n",
    "$$  \n",
    "\n",
    "可以发现前面的两个问题可以被FM解决了，第一个问题，参数量从$n(n-1)/2$降低到了$kn$，第二个高维稀疏导致参数无法被训练的问题，对于$v_{i,f}$只要$x_i$不为0，且所有$x_j,j=1,2,...,n$中有一个不为0，那么梯度$\\frac{\\partial}{\\partial v_{i,f}}y(x)$就不为0，这比$x_ix_j$不为0的条件松了很多"
   ]
  },
  {
   "cell_type": "markdown",
   "metadata": {},
   "source": [
    "### 二.代码实现\n",
    "这里就对FM应用到回归任务做简单实现，更多的功能扩展放到FFM中，下面推导一下损失函数对参数的梯度，假设样本$x$对应的标签为$t$，那么损失函数可以表示如下：   \n",
    "\n",
    "$$\n",
    "L(\\theta)=\\frac{1}{2}(y(x)-t)^2\n",
    "$$   \n",
    "\n",
    "那么：   \n",
    "\n",
    "$$\n",
    "\\frac{\\partial L(\\theta)}{\\partial y(x)}=y(x)-t\n",
    "$$   \n",
    "\n",
    "再根据链式求导有：   \n",
    "\n",
    "$$\n",
    "\\frac{\\partial L(\\theta)}{\\partial \\theta}=\\frac{\\partial L(\\theta)}{\\partial y(x)}\\frac{\\partial y(x)}{\\partial\\theta}\\\\\n",
    "=(y(x)-t)\\cdot \\left\\{\\begin{matrix}\n",
    "1 &\\theta=w_0 \\\\ \n",
    "x_i &\\theta=w_i \\\\ \n",
    "x_i\\sum_{j=1}^nv_{j,f}x_j-v_{i,f}x_i^2 & \\theta=v_{i,f}\n",
    "\\end{matrix}\\right.\n",
    "$$"
   ]
  },
  {
   "cell_type": "code",
   "execution_count": 1,
   "metadata": {},
   "outputs": [],
   "source": [
    "\"\"\"\n",
    "FM因子分解机的简单实现，只实现了损失函数为平方损失的回归任务，更多功能扩展请使用后续的FFM\n",
    "代码封装到ml_models.fm中\n",
    "\"\"\"\n",
    "import numpy as np\n",
    "from tqdm import tqdm\n",
    "\n",
    "\n",
    "class FM(object):\n",
    "    def __init__(self, epochs=1, lr=1e-3, batch_size=2, hidden_dim=4, lamb=1e-3, alpha=1e-3, normal=True,\n",
    "                 solver='adam', rho_1=0.9, rho_2=0.999):\n",
    "        \"\"\"\n",
    "\n",
    "        :param epochs: 迭代轮数\n",
    "        :param lr: 学习率\n",
    "        :param batch_size:\n",
    "        :param hidden_dim:隐变量维度\n",
    "        :param lamb:l2正则项系数\n",
    "        :param alpha:l1正则项系数\n",
    "        :param normal:是否归一化，默认用min-max归一化\n",
    "        :param solver:优化方式，包括sgd,adam,默认adam\n",
    "        :param rho_1:adam的rho_1的权重衰减,solver=adam时生效\n",
    "        :param rho_2:adam的rho_2的权重衰减,solver=adam时生效\n",
    "        \"\"\"\n",
    "        self.epochs = epochs\n",
    "        self.lr = lr\n",
    "        self.batch_size = batch_size\n",
    "        self.hidden_dim = hidden_dim\n",
    "        self.lamb = lamb\n",
    "        self.alpha = alpha\n",
    "        self.solver = solver\n",
    "        self.rho_1 = rho_1\n",
    "        self.rho_2 = rho_2\n",
    "        # 初始化参数\n",
    "        self.w = None  # w_0,w_i\n",
    "        self.V = None  # v_{i,f}\n",
    "        # 归一化\n",
    "        self.normal = normal\n",
    "        if normal:\n",
    "            self.xmin = None\n",
    "            self.xmax = None\n",
    "\n",
    "    def _y(self, X):\n",
    "        \"\"\"\n",
    "        实现y(x)的功能\n",
    "        :param X:\n",
    "        :return:\n",
    "        \"\"\"\n",
    "        # 去掉第一列bias\n",
    "        X_ = X[:, 1:]\n",
    "        X_V = X_ @ self.V\n",
    "        X_V_2 = X_V * X_V\n",
    "        X_2_V_2 = (X_ * X_) @ (self.V * self.V)\n",
    "        pol = 0.5 * np.sum(X_V_2 - X_2_V_2, axis=1)\n",
    "        return X @ self.w.reshape(-1) + pol\n",
    "\n",
    "    def fit(self, X, y):\n",
    "        if self.normal:\n",
    "            self.xmin = X.min(axis=0)\n",
    "            self.xmax = X.max(axis=0)\n",
    "            X = (X - self.xmin) / self.xmax\n",
    "        # 记录loss\n",
    "        losses = []\n",
    "        n_sample, n_feature = X.shape\n",
    "        x_y = np.c_[np.ones(n_sample), X, y]\n",
    "        # 调整一下学习率\n",
    "        self.lr = max(self.lr, 1 / n_feature)\n",
    "        # 初始化参数\n",
    "        self.w = np.random.random((n_feature + 1, 1)) * 1e-3\n",
    "        self.V = np.random.random((n_feature, self.hidden_dim)) * 1e-3\n",
    "        if self.solver == 'adam':\n",
    "            # 缓存梯度一阶，二阶估计\n",
    "            w_1 = np.zeros_like(self.w)\n",
    "            V_1 = np.zeros_like(self.V)\n",
    "            w_2 = np.zeros_like(self.w)\n",
    "            V_2 = np.zeros_like(self.V)\n",
    "        # 更新参数\n",
    "        count = 0\n",
    "        for _ in tqdm(range(self.epochs)):\n",
    "            np.random.shuffle(x_y)\n",
    "            for index in tqdm(range(x_y.shape[0] // self.batch_size)):\n",
    "                count += 1\n",
    "                batch_x_y = x_y[self.batch_size * index:self.batch_size * (index + 1)]\n",
    "                batch_x = batch_x_y[:, :-1]\n",
    "                batch_y = batch_x_y[:, -1:]\n",
    "                # 计算y(x)-t\n",
    "                y_x_t = self._y(batch_x).reshape((-1, 1)) - batch_y\n",
    "                # 更新w\n",
    "                if self.solver == 'sgd':\n",
    "                    self.w = self.w - (self.lr * (np.sum(y_x_t * batch_x, axis=0) / self.batch_size).reshape(\n",
    "                        (-1, 1)) + self.lamb * self.w + self.alpha * np.where(self.w > 0, 1, 0))\n",
    "                elif self.solver == 'adam':\n",
    "                    w_reg = self.lamb * self.w + self.alpha * np.where(self.w > 0, 1, 0)\n",
    "                    w_grad = (np.sum(y_x_t * batch_x, axis=0) / self.batch_size).reshape(\n",
    "                        (-1, 1)) + w_reg\n",
    "                    w_1 = self.rho_1 * w_1 + (1 - self.rho_1) * w_grad\n",
    "                    w_2 = self.rho_2 * w_2 + (1 - self.rho_2) * w_grad * w_grad\n",
    "                    w_1_ = w_1 / (1 - np.power(self.rho_1, count))\n",
    "                    w_2_ = w_2 / (1 - np.power(self.rho_2, count))\n",
    "                    self.w = self.w - (self.lr * w_1_) / (np.sqrt(w_2_) + 1e-8)\n",
    "\n",
    "                # 更新 V\n",
    "                batch_x_ = batch_x[:, 1:]\n",
    "                V_X = batch_x_ @ self.V\n",
    "                X_2 = batch_x_ * batch_x_\n",
    "                # 从i,f单个元素逐步更新有点慢\n",
    "                # for i in range(self.V.shape[0]):\n",
    "                #     for f in range(self.V.shape[1]):\n",
    "                #         if self.solver == \"sgd\":\n",
    "                #             self.V[i, f] -= self.lr * (\n",
    "                #                 np.sum(y_x_t.reshape(-1) * (batch_x_[:, i] * V_X[:, f] - self.V[i, f] * X_2[:, i]))\n",
    "                #                 / self.batch_size + self.lamb * self.V[i, f] + self.alpha * (self.V[i, f] > 0))\n",
    "                #         elif self.solver == \"adam\":\n",
    "                #             v_reg = self.lamb * self.V[i, f] + self.alpha * (self.V[i, f] > 0)\n",
    "                #             v_grad = np.sum(y_x_t.reshape(-1) * (\n",
    "                #                 batch_x_[:, i] * V_X[:, f] - self.V[i, f] * X_2[:, i])) / self.batch_size + v_reg\n",
    "                #             V_1[i, f] = self.rho_1 * V_1[i, f] + (1 - self.rho_1) * v_grad\n",
    "                #             V_2[i, f] = self.rho_2 * V_2[i, f] + (1 - self.rho_2) * v_grad * v_grad\n",
    "                #             v_1_ = V_1[i, f] / (1 - np.power(self.rho_1, count))\n",
    "                #             v_2_ = V_2[i, f] / (1 - np.power(self.rho_2, count))\n",
    "                #             self.V[i, f] = self.V[i, f] - (self.lr * v_1_) / (np.sqrt(v_2_) + 1e-8)\n",
    "\n",
    "                # 从隐变量的维度进行更新\n",
    "                for f in range(self.V.shape[1]):\n",
    "                    if self.solver == 'sgd':\n",
    "                        V_grad = np.sum(\n",
    "                            y_x_t.reshape((-1, 1)) * (batch_x_ * V_X[:, f].reshape((-1, 1)) - X_2 * self.V[:, f]),\n",
    "                            axis=0)\n",
    "                        self.V[:, f] = self.V[:, f] - self.lr * V_grad - self.lamb * self.V[:, f] - self.alpha * (\n",
    "                            self.V[:, f] > 0)\n",
    "                    elif self.solver == 'adam':\n",
    "                        V_reg = self.lamb * self.V[:, f] + self.alpha * (self.V[:, f] > 0)\n",
    "                        V_grad = np.sum(\n",
    "                            y_x_t.reshape((-1, 1)) * (batch_x_ * V_X[:, f].reshape((-1, 1)) - X_2 * self.V[:, f]),\n",
    "                            axis=0) + V_reg\n",
    "                        V_1[:, f] = self.rho_1 * V_1[:, f] + (1 - self.rho_1) * V_grad\n",
    "                        V_2[:, f] = self.rho_2 * V_2[:, f] + (1 - self.rho_2) * V_grad * V_grad\n",
    "                        V_1_ = V_1[:, f] / (1 - np.power(self.rho_1, count))\n",
    "                        V_2_ = V_2[:, f] / (1 - np.power(self.rho_2, count))\n",
    "                        self.V[:, f] = self.V[:, f] - (self.lr * V_1_) / (np.sqrt(V_2_) + 1e-8)\n",
    "\n",
    "                # 计算loss\n",
    "                loss = np.sum(np.abs(y - self.predict(X))) / n_sample\n",
    "                losses.append(loss)\n",
    "        return losses\n",
    "\n",
    "    def predict(self, X):\n",
    "        \"\"\"\n",
    "        :param X:\n",
    "        :return:\n",
    "        \"\"\"\n",
    "        if self.normal:\n",
    "            X = (X - self.xmin) / self.xmax\n",
    "        n_sample, n_feature = X.shape\n",
    "        X_V = X @ self.V\n",
    "        X_V_2 = X_V * X_V\n",
    "        X_2_V_2 = (X * X) @ (self.V * self.V)\n",
    "        pol = 0.5 * np.sum(X_V_2 - X_2_V_2, axis=1)\n",
    "        return np.c_[np.ones(n_sample), X] @ self.w.reshape(-1) + pol"
   ]
  },
  {
   "cell_type": "markdown",
   "metadata": {},
   "source": [
    "### 三.测试"
   ]
  },
  {
   "cell_type": "code",
   "execution_count": 2,
   "metadata": {},
   "outputs": [],
   "source": [
    "import matplotlib.pyplot as plt\n",
    "%matplotlib inline"
   ]
  },
  {
   "cell_type": "code",
   "execution_count": 3,
   "metadata": {},
   "outputs": [],
   "source": [
    "#造伪数据\n",
    "data1 = np.linspace(1, 10, num=100)\n",
    "data2 = np.linspace(1, 10, num=100) + np.random.random(size=100)\n",
    "target = data1 * 2 + data2 * 1 + 10 * data1 * data2 + np.random.random(size=100)\n",
    "data = np.c_[data1, data2]"
   ]
  },
  {
   "cell_type": "code",
   "execution_count": 4,
   "metadata": {},
   "outputs": [
    {
     "name": "stderr",
     "output_type": "stream",
     "text": [
      "  0%|                                                                                            | 0/1 [00:00<?, ?it/s]\n",
      "  0%|                                                                                           | 0/50 [00:00<?, ?it/s]\n",
      "100%|████████████████████████████████████████████████████████████████████████████████████| 1/1 [00:00<00:00, 41.78it/s]\n"
     ]
    }
   ],
   "source": [
    "#训练模型\n",
    "model = FM()\n",
    "losses = model.fit(data, target)"
   ]
  },
  {
   "cell_type": "code",
   "execution_count": 5,
   "metadata": {},
   "outputs": [
    {
     "data": {
      "text/plain": [
       "[<matplotlib.lines.Line2D at 0x192a5501f60>]"
      ]
     },
     "execution_count": 5,
     "metadata": {},
     "output_type": "execute_result"
    },
    {
     "data": {
      "image/png": "[encoded data removed]",
      "text/plain": [
       "<Figure size 432x288 with 1 Axes>"
      ]
     },
     "metadata": {},
     "output_type": "display_data"
    }
   ],
   "source": [
    "#查看拟合效果\n",
    "plt.scatter(data[:, 0], target)\n",
    "plt.plot(data[:, 0], model.predict(data), color='r')"
   ]
  },
  {
   "cell_type": "code",
   "execution_count": 6,
   "metadata": {},
   "outputs": [
    {
     "data": {
      "text/plain": [
       "[<matplotlib.lines.Line2D at 0x192a75feb38>]"
      ]
     },
     "execution_count": 6,
     "metadata": {},
     "output_type": "execute_result"
    },
    {
     "data": {
      "image/png": "[encoded data removed]",
      "text/plain": [
       "<Figure size 432x288 with 1 Axes>"
      ]
     },
     "metadata": {},
     "output_type": "display_data"
    }
   ],
   "source": [
    "#查看损失值变化\n",
    "plt.plot(range(0, len(losses)), losses)"
   ]
  },
  {
   "cell_type": "code",
   "execution_count": null,
   "metadata": {},
   "outputs": [],
   "source": []
  }
 ],
 "metadata": {
  "kernelspec": {
   "display_name": "Python 3",
   "language": "python",
   "name": "python3"
  },
  "language_info": {
   "codemirror_mode": {
    "name": "ipython",
    "version": 3
   },
   "file_extension": ".py",
   "mimetype": "text/x-python",
   "name": "python",
   "nbconvert_exporter": "python",
   "pygments_lexer": "ipython3",
   "version": "3.6.5"
  }
 },
 "nbformat": 4,
 "nbformat_minor": 2
}
