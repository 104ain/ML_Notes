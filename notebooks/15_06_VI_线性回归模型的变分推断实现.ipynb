{
 "cells": [
  {
   "cell_type": "markdown",
   "metadata": {},
   "source": [
    "### 一.联合概率分布\n",
    "上一节我们介绍了线性回归的贝叶斯估计，它的图模型结构如下  \n",
    "![avatar](./source/15_VI_贝叶斯线性回归图模型.png)\n",
    "为了方便，我们将$\\beta$看做一个常数，回忆一下上一节，我们的似然函数和共轭先验如下：   \n",
    "\n",
    "$$\n",
    "p(t\\mid w)=\\prod_{n=1}^N N(t_n\\mid w^T\\phi(x_n),\\beta^{-1})\\\\\n",
    "p(w\\mid \\alpha)=N(w\\mid 0,\\alpha^{-1}I)\n",
    "$$  \n",
    "这里，$X=\\{x_1,x_2,...,x_N\\}$，$I$为单位矩阵，与上一节给$\\alpha$取定值不同，我们这里将$\\alpha$看做来源于一个Gamma分布，即   \n",
    "$$\n",
    "p(\\alpha)=Gam(\\alpha\\mid a_0,b_0)\n",
    "$$   \n",
    "所以，所有变量上的联合概率分布就有了   \n",
    "\n",
    "$$\n",
    "p(t,w,\\alpha)=p(t\\mid w)p(w\\mid\\alpha)p(\\alpha)\n",
    "$$"
   ]
  },
  {
   "cell_type": "markdown",
   "metadata": {},
   "source": [
    "### 二.变分分布\n",
    "接下来，我们就是要构建一个变分分布$q(w,\\alpha)$去近似后验概率分布$p(w,\\alpha\\mid t)$，利用平均场假设，令：   \n",
    "\n",
    "$$\n",
    "q(w,\\alpha)=q(w)q(\\alpha)\n",
    "$$  \n",
    "\n",
    "根据VI第一节最后推导的公式，我们可以直接写出最优解：   \n",
    "\n",
    "$$\n",
    "ln\\ q^*(\\alpha)=ln\\ p(\\alpha)+E_w[ln\\ p(w\\mid\\alpha)]+const\\\\\n",
    "=(a_0-1)ln\\ \\alpha-b_0\\alpha+\\frac{M}{2}ln\\ \\alpha-\\frac{\\alpha}{2}E[w^Tw]+const\n",
    "$$  \n",
    "\n",
    "可以发现这个Gamma分布取对数的形式，通过观察系数项，我们有  \n",
    "\n",
    "$$\n",
    "q^*(\\alpha)=Gam(a\\mid a_N,b_N)\n",
    "$$  \n",
    "\n",
    "其中  \n",
    "\n",
    "$$\n",
    "a_N=a_0+\\frac{M}{2}\\\\\n",
    "b_N=b_0+\\frac{1}{2}E[w^Tw]\n",
    "$$  \n",
    "\n",
    "同样的方式，我们可以求解$q^*(w)$:   \n",
    "\n",
    "$$\n",
    "ln\\ q^*(w)=ln\\ p(t\\mid w)+E_\\alpha[ln\\ p(w\\mid \\alpha)]+const\\\\\n",
    "=-\\frac{\\beta}{2}\\sum_{n=1}^N\\left \\{w^T\\phi(x_n)-t_n\\right \\}^2-\\frac{1}{2}E[\\alpha]w^Tw+const\\\\\n",
    "=-\\frac{1}{2}w^T(E[\\alpha]I+\\beta\\Phi^T\\Phi)w+\\beta w^T\\Phi^Tt+const\n",
    "$$  \n",
    "\n",
    "可以发现这是关于$w$的二次型，所以$q^*(w)$是一个高斯分布，通过配方可以得到：   \n",
    "\n",
    "$$\n",
    "q^*(w)=N(w\\mid m_N,S_N)\n",
    "$$  \n",
    "\n",
    "其中   \n",
    "\n",
    "$$\n",
    "m_N=\\beta S_N\\Phi^Tt\\\\\n",
    "S_N=(E[\\alpha]I+\\beta\\Phi^T\\Phi)^{-1}\n",
    "$$  \n",
    "\n",
    "细心的同学已经发现了，把$E[\\alpha]$换成$\\alpha$就是上一节推导出来的结果"
   ]
  },
  {
   "cell_type": "markdown",
   "metadata": {},
   "source": [
    "### 三.迭代求解\n",
    "\n",
    "可以发现$q^*(w)$与$q^*(\\alpha)$之间是相互耦合的，$q^*(w)$中需要用到$E[\\alpha]$，而$q^*(\\alpha)$中需要用到$E[w^Tw]$，而根据Gamma分布和高斯分布的性质，我们可以很方便的写出这两个期望的求解公式   \n",
    "\n",
    "$$\n",
    "E[\\alpha]=\\frac{a_N}{b_N}\\\\\n",
    "E[w^Tw]=m_N^Tm_N+Tr(S_N)\n",
    "$$  \n",
    "\n",
    "那么，我们初始随意为$E[\\alpha]$赋予一个大于0的值，就可以迭代起来了：$E_0[\\alpha]\\rightarrow E_0[w^Tw]\\rightarrow E_1[\\alpha]\\rightarrow E_1[w^Tw]\\rightarrow \\cdots$"
   ]
  },
  {
   "cell_type": "markdown",
   "metadata": {},
   "source": [
    "### 四.应用：预测分布\n",
    "对于新的样本点$\\hat{x}$，我们需要给出预测$\\hat{t}$，其概率预测同样使用上一节的贝叶斯积分，只不过将后验分布替换成变分分布   \n",
    "\n",
    "$$\n",
    "p(\\hat{t}\\mid \\hat{x},t)=\\int p(\\hat{t}\\mid\\hat{x},w)p(w\\mid t)dw\\\\\n",
    "\\simeq \\int p(\\hat{t}\\mid\\hat{x},w)q(w)dw\\\\\n",
    "=\\int N(\\hat{t}\\mid w^T\\phi(\\hat{x}),\\beta^{-1})N(w\\mid m_N,S_N)dw\\\\\n",
    "=N(\\hat{t}\\mid m_N^T\\phi(\\hat{x}),\\sigma^2(\\hat{x}))\n",
    "$$  \n",
    "\n",
    "这里$\\sigma^2(\\hat{x})=\\frac{1}{\\beta}+\\phi(\\hat{x})^TS_N\\phi(\\hat{x})$"
   ]
  },
  {
   "cell_type": "markdown",
   "metadata": {},
   "source": [
    " ### 五.代码实现"
   ]
  },
  {
   "cell_type": "code",
   "execution_count": 1,
   "metadata": {},
   "outputs": [],
   "source": [
    "\"\"\"\n",
    "线性回归的vi实现，代码封装到ml_models.vi中\n",
    "\"\"\"\n",
    "import numpy as np\n",
    "import matplotlib.pyplot as plt\n",
    "\n",
    "\n",
    "class LinearRegression(object):\n",
    "    def __init__(self, basis_func=None, beta=1e-12, tol=1e-5, epochs=100):\n",
    "        \"\"\"\n",
    "        :param basis_func: list,基函数列表，包括rbf,sigmoid,poly_{num},linear，默认None为linear，其中poly_{num}中的{num}表示多项式的最高阶数\n",
    "        :param beta: 生成t标签的高斯噪声，这里可以设置低一点\n",
    "        :param tol:  两次迭代参数平均绝对值变化小于tol则停止\n",
    "        :param epochs: 默认迭代次数\n",
    "        \"\"\"\n",
    "        if basis_func is None:\n",
    "            self.basis_func = ['linear']\n",
    "        else:\n",
    "            self.basis_func = basis_func\n",
    "        self.beta = beta\n",
    "        self.tol = tol\n",
    "        self.epochs = epochs\n",
    "        # 特征均值、标准差\n",
    "        self.feature_mean = None\n",
    "        self.feature_std = None\n",
    "        # 训练参数，也就是m_N\n",
    "        self.w = None\n",
    "\n",
    "    def _map_basis(self, X):\n",
    "        \"\"\"\n",
    "        将X进行基函数映射\n",
    "        :param X:\n",
    "        :return:\n",
    "        \"\"\"\n",
    "        x_list = []\n",
    "        for basis_func in self.basis_func:\n",
    "            if basis_func == \"linear\":\n",
    "                x_list.append(X)\n",
    "            elif basis_func == \"rbf\":\n",
    "                x_list.append(np.exp(-0.5 * X * X))\n",
    "            elif basis_func == \"sigmoid\":\n",
    "                x_list.append(1 / (1 + np.exp(-1 * X)))\n",
    "            elif basis_func.startswith(\"poly\"):\n",
    "                p = int(basis_func.split(\"_\")[1])\n",
    "                for pow in range(1, p + 1):\n",
    "                    x_list.append(np.power(X, pow))\n",
    "        return np.concatenate(x_list, axis=1)\n",
    "\n",
    "    def fit(self, X, y):\n",
    "        self.feature_mean = np.mean(X, axis=0)\n",
    "        self.feature_std = np.std(X, axis=0) + 1e-8\n",
    "        X_ = (X - self.feature_mean) / self.feature_std\n",
    "        X_ = self._map_basis(X_)\n",
    "        X_ = np.c_[np.ones(X_.shape[0]), X_]\n",
    "        n_sample, n_feature = X_.shape\n",
    "\n",
    "        E_alpha = self.beta  # 初始就和beta设置一样，让它自动去调节（这里设置任意大于0的值都是可以的）\n",
    "        current_w = None\n",
    "        for _ in range(0, self.epochs):\n",
    "            S_N = np.linalg.inv(E_alpha * np.eye(n_feature) + self.beta * X_.T @ X_)\n",
    "            self.w = self.beta * S_N @ X_.T @ y.reshape((-1, 1))  # 即m_N\n",
    "            if current_w is not None and np.mean(np.abs(current_w - self.w)) < self.tol:\n",
    "                break\n",
    "            current_w = self.w\n",
    "            E_w = (self.w.T @ self.w)[0][0] + np.trace(S_N)\n",
    "            E_alpha = (n_feature - 1) / E_w  # 这里假设a_0,b_0都为0\n",
    "\n",
    "    def predict(self, X):\n",
    "        X_ = (X - self.feature_mean) / self.feature_std\n",
    "        X_ = self._map_basis(X_)\n",
    "        X_ = np.c_[np.ones(X_.shape[0]), X_]\n",
    "        return (self.w.T @ X_.T).reshape(-1)\n",
    "\n",
    "    def plot_fit_boundary(self, x, y):\n",
    "        \"\"\"\n",
    "        绘制拟合结果\n",
    "        :param x:\n",
    "        :param y:\n",
    "        :return:\n",
    "        \"\"\"\n",
    "        plt.scatter(x[:, 0], y)\n",
    "        plt.plot(x[:, 0], self.predict(x), 'r')"
   ]
  },
  {
   "cell_type": "markdown",
   "metadata": {},
   "source": [
    "### 六.测试"
   ]
  },
  {
   "cell_type": "code",
   "execution_count": 2,
   "metadata": {},
   "outputs": [],
   "source": [
    "#造伪样本\n",
    "X=np.linspace(0,100,100)\n",
    "X=np.c_[X,np.ones(100)]\n",
    "w=np.asarray([3,2])\n",
    "Y=X.dot(w)\n",
    "X=X.astype('float')\n",
    "Y=Y.astype('float')\n",
    "X[:,0]+=np.random.normal(size=(X[:,0].shape))*3#添加噪声\n",
    "Y=Y.reshape(100,1)"
   ]
  },
  {
   "cell_type": "code",
   "execution_count": 3,
   "metadata": {},
   "outputs": [],
   "source": [
    "#加噪声\n",
    "X=np.concatenate([X,np.asanyarray([[100,1],[101,1],[102,1],[103,1],[104,1]])])\n",
    "Y=np.concatenate([Y,np.asanyarray([[3000],[3300],[3600],[3800],[3900]])])"
   ]
  },
  {
   "cell_type": "code",
   "execution_count": 4,
   "metadata": {},
   "outputs": [
    {
     "data": {
      "image/png": "[encoded data removed]",
      "text/plain": [
       "<matplotlib.figure.Figure at 0x187792c0f98>"
      ]
     },
     "metadata": {},
     "output_type": "display_data"
    }
   ],
   "source": [
    "%matplotlib inline\n",
    "lr=LinearRegression()\n",
    "lr.fit(X[:,:-1],Y)\n",
    "lr.plot_fit_boundary(X[:,:-1],Y)"
   ]
  },
  {
   "cell_type": "markdown",
   "metadata": {},
   "source": [
    "可以发现成功省去了调节超参`alpha`的烦恼...，这样也可以发现我们上一节贝叶斯估计没法自动避免过拟合的主要原因是`alpha`是人为指定的常数，而本节由于将`alpha`也视作随机变量，并假设它来源于一个比较合理Gamma分布，最后通过求期望的方式得到一个更优的`alpha`"
   ]
  },
  {
   "cell_type": "code",
   "execution_count": null,
   "metadata": {},
   "outputs": [],
   "source": []
  }
 ],
 "metadata": {
  "kernelspec": {
   "display_name": "Python 3",
   "language": "python",
   "name": "python3"
  },
  "language_info": {
   "codemirror_mode": {
    "name": "ipython",
    "version": 3
   },
   "file_extension": ".py",
   "mimetype": "text/x-python",
   "name": "python",
   "nbconvert_exporter": "python",
   "pygments_lexer": "ipython3",
   "version": "3.6.4"
  }
 },
 "nbformat": 4,
 "nbformat_minor": 2
}
