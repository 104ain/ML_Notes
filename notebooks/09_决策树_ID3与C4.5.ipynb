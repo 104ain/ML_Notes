{
 "cells": [
  {
   "cell_type": "markdown",
   "metadata": {},
   "source": [
    "### 简介\n",
    "\n",
    "先看一个例子，某银行是否给用户放贷的判断规则集如下：  \n",
    "\n",
    "```python\n",
    "if 年龄==青年:\n",
    "    if 有工作==是:\n",
    "        if 信贷情况==非常好:\n",
    "            放\n",
    "        else:\n",
    "            不放\n",
    "    else:\n",
    "        if 有自己的房子==是:\n",
    "            if 信贷情况==一般:\n",
    "                不放\n",
    "            else:\n",
    "                放\n",
    "        else:\n",
    "            if 信贷情况==非常好 or 信贷情况==好:\n",
    "                放\n",
    "            else:\n",
    "                if 有工作==是:\n",
    "                    放\n",
    "                else:\n",
    "                    不放\n",
    "elif 年龄==中年:\n",
    "    if 有自己的房子==是:\n",
    "        放\n",
    "    else:\n",
    "        if 信贷情况==非常好 or 信贷情况==好:\n",
    "            放\n",
    "        else:\n",
    "            if 有工作==是:\n",
    "                放\n",
    "            else:\n",
    "                不放\n",
    "elif 年龄==老年:\n",
    "    if 有自己的房子==是:\n",
    "        if 信贷情况==非常好 or 信贷情况==好:\n",
    "            放\n",
    "        else:\n",
    "            不放\n",
    "    else:\n",
    "        if 信贷情况==非常好 or 信贷情况==好:\n",
    "            if 有工作==是:\n",
    "                放\n",
    "            else:\n",
    "                不放\n",
    "        else:\n",
    "            不放\n",
    "if 有自己的房子==是:\n",
    "    放\n",
    "else:\n",
    "    if 有工作==是:\n",
    "        放\n",
    "    else:\n",
    "        不放\n",
    "```"
   ]
  },
  {
   "cell_type": "markdown",
   "metadata": {},
   "source": [
    "眼力好的同学立马会发现这代码写的有问题，比如只要`信贷情况==非常好`的用户都有放款，何必嵌到里面去？而且很多规则有冗余，为什么不重构一下呀？但现实情况是你可能真不敢随意乱动！因为指不定哪天项目经理又要新增加规则了，所以宁可让代码越来越冗余，越来越复杂，也不敢随意乱动之前的规则，乱动两条，可能会带来意想不到的灾难。简单总结一下这种复杂嵌套的`if else`规则可能存在的痛点：  \n",
    "\n",
    "（1）规则可能不完备，存在某些匹配不上的情况；  \n",
    "\n",
    "（2）规则之间存在冗余，多个`if else`情况其实是判断的同样的条件；  \n",
    "\n",
    "（3）严重时，可能会出现矛盾的情况，即相同的条件，即有**放**，又有**不放**；  \n",
    "\n",
    "（4）判断规则的优先级混乱，比如`信贷情况`因子可以优先考虑，因为只要它是`非常好`就可以放款，而不必先判断其它条件  \n",
    "\n",
    "而决策树算法就能解决以上痛点，它能保证所有的规则**互斥且完备**，即用户的任意一种情况一定能匹配上一条规则，且该规则唯一，这样就能解决上面的痛点1~3，且规则判断的优先级也很不错，下面介绍决策树学习算法。"
   ]
  },
  {
   "cell_type": "markdown",
   "metadata": {},
   "source": [
    "### 决策树学习\n",
    "决策树算法可以从已标记的数据中自动学习出`if else`规则集，如下图（[图片来源>>>](https://www.cnblogs.com/jin-liang/p/9609144.html)），左边是收集的一系列判断是否打球的案例，包括4个特征outlook,temperature,Humidity,Wind,以及y标签是否打球，通过决策树学习后得到右边的决策树，**决策树的结构**如图所示，它由节点和有向边组成，而节点又分为两种：叶子节点和非叶子节点，非叶子节点主要用于对某一特征做判断，而它下面所链接的有向边表示该特征所满足的某条件，最终的叶子节点即表示实例的预测值(分类/回归)  \n",
    "\n",
    "\n",
    "![avatar](./source/09_决策树学习.jpg)"
   ]
  },
  {
   "cell_type": "markdown",
   "metadata": {},
   "source": [
    "决策树学习主要分为两个阶段，**决策树生成**和**决策树剪枝**，决策树生成阶段最重要便是**特征选择**，下面对相关概念做介绍：  "
   ]
  },
  {
   "cell_type": "markdown",
   "metadata": {},
   "source": [
    "#### 1.特征选择  \n",
    "\n",
    "特征选择用于选择对分类有用的特征，ID3和C4.5通常选择的准则是信息增益和信息增益比，下面对其作介绍并实现\n",
    "\n",
    "##### 信息增益\n",
    "首先介绍两个随机变量之间的互信息公式：  \n",
    "\n",
    "$$\n",
    "MI(Y,X)=H(Y)-H(Y|X)\n",
    "$$  \n",
    "\n",
    "这里$H(X)$表示$X$的熵，在最大熵模型那一节已做过介绍：  \n",
    "\n",
    "$$\n",
    "H(X)=-\\sum_{i=1}^np_ilogp_i,这里p_i=P(X=x_i)\n",
    "$$  \n",
    "\n",
    "条件熵$H(Y|X)$表示在已知随机变量$X$的条件下，随机变量$Y$的不确定性：  \n",
    "\n",
    "$$\n",
    "H(Y|X)=\\sum_{i=1}^np_iH(Y|X=x_i),这里p_i=P(X=x_i)\n",
    "$$  \n",
    "\n",
    "而信息增益就是$Y$取分类标签，$X$取某一特征时的互信息，它表示如果选择特征$X$对数据进行分割，可以使得分割后$Y$分布的熵降低多少，若降低的越多，说明分割每个子集的$Y$的分布越集中，则$X$对分类标签$Y$越有用，下面进行python实现：  "
   ]
  },
  {
   "cell_type": "code",
   "execution_count": 1,
   "metadata": {},
   "outputs": [],
   "source": [
    "\"\"\"\n",
    "定义计算熵的函数,封装到ml_models.utils\n",
    "\"\"\"\n",
    "import numpy as np\n",
    "from collections import Counter\n",
    "import math\n",
    "def entropy(x,sample_weight=None):\n",
    "    x=np.asarray(x)\n",
    "    #x中元素个数\n",
    "    x_num=len(x)\n",
    "    #如果sample_weight为None设均设置一样\n",
    "    if sample_weight is None:\n",
    "        sample_weight=np.asarray([1.0]*x_num)\n",
    "    x_counter={}\n",
    "    weight_counter={}\n",
    "    # 统计各x取值出现的次数以及其对应的sample_weight列表\n",
    "    for index in range(0,x_num):\n",
    "        x_value=x[index]\n",
    "        if x_counter.get(x_value) is None:\n",
    "            x_counter[x_value]=0\n",
    "            weight_counter[x_value]=[]\n",
    "        x_counter[x_value]+=1\n",
    "        weight_counter[x_value].append(sample_weight[index])\n",
    "    \n",
    "    #计算熵\n",
    "    ent=.0\n",
    "    for key,value in x_counter.items():\n",
    "        p_i=1.0*value*np.mean(weight_counter.get(key))/x_num\n",
    "        ent+=-p_i*math.log(p_i)\n",
    "    return ent"
   ]
  },
  {
   "cell_type": "code",
   "execution_count": 2,
   "metadata": {},
   "outputs": [
    {
     "data": {
      "text/plain": [
       "0.6931471805599453"
      ]
     },
     "execution_count": 2,
     "metadata": {},
     "output_type": "execute_result"
    }
   ],
   "source": [
    "#测试\n",
    "entropy([1,2])"
   ]
  },
  {
   "cell_type": "code",
   "execution_count": 3,
   "metadata": {},
   "outputs": [],
   "source": [
    "def cond_entropy(x, y,sample_weight=None):\n",
    "    \"\"\"\n",
    "    计算条件熵:H(y|x)\n",
    "    \"\"\"\n",
    "    x=np.asarray(x)\n",
    "    y=np.asarray(y)\n",
    "    # x中元素个数\n",
    "    x_num = len(x)\n",
    "    #如果sample_weight为None设均设置一样\n",
    "    if sample_weight is None:\n",
    "        sample_weight=np.asarray([1.0]*x_num)\n",
    "    # 计算\n",
    "    ent = .0\n",
    "    for x_value in set(x):\n",
    "        x_index=np.where(x==x_value)\n",
    "        new_x=x[x_index]\n",
    "        new_y=y[x_index]\n",
    "        new_sample_weight=sample_weight[x_index]\n",
    "        p_i=1.0*len(new_x)/x_num\n",
    "        ent += p_i * entropy(new_y,new_sample_weight)\n",
    "    return ent"
   ]
  },
  {
   "cell_type": "code",
   "execution_count": 4,
   "metadata": {},
   "outputs": [
    {
     "data": {
      "text/plain": [
       "0.0"
      ]
     },
     "execution_count": 4,
     "metadata": {},
     "output_type": "execute_result"
    }
   ],
   "source": [
    "#测试\n",
    "cond_entropy([1,2],[1,2])"
   ]
  },
  {
   "cell_type": "code",
   "execution_count": 5,
   "metadata": {},
   "outputs": [],
   "source": [
    "def muti_info(x, y,sample_weight=None):\n",
    "    \"\"\"\n",
    "    互信息/信息增益:H(y)-H(y|x)\n",
    "    \"\"\"\n",
    "    x_num=len(x)\n",
    "    if sample_weight is None:\n",
    "        sample_weight=np.asarray([1.0]*x_num)\n",
    "    return entropy(y,sample_weight) - cond_entropy(x, y,sample_weight)"
   ]
  },
  {
   "cell_type": "markdown",
   "metadata": {},
   "source": [
    "接下来，做一个测试，看特征的取值的个数对信息增益的影响"
   ]
  },
  {
   "cell_type": "code",
   "execution_count": 6,
   "metadata": {},
   "outputs": [
    {
     "data": {
      "text/plain": [
       "[<matplotlib.lines.Line2D at 0x243ca16e470>]"
      ]
     },
     "execution_count": 6,
     "metadata": {},
     "output_type": "execute_result"
    },
    {
     "data": {
      "image/png": "[encoded data removed]",
      "text/plain": [
       "<Figure size 432x288 with 1 Axes>"
      ]
     },
     "metadata": {},
     "output_type": "display_data"
    }
   ],
   "source": [
    "import random\n",
    "import numpy as np\n",
    "import matplotlib.pyplot as plt\n",
    "%matplotlib inline\n",
    "#作epochs次测试\n",
    "epochs=100\n",
    "#x的取值的个数：2->class_num_x\n",
    "class_num_x=100\n",
    "#y标签类别数\n",
    "class_num_y=2\n",
    "#样本数量\n",
    "num_samples=500\n",
    "info_gains=[]\n",
    "for _ in range(0,epochs):\n",
    "    info_gain=[]\n",
    "    for class_x in range(2,class_num_x):\n",
    "        x=[]\n",
    "        y=[]\n",
    "        for _ in range(0,num_samples):\n",
    "            x.append(random.randint(1,class_x))\n",
    "            y.append(random.randint(1,class_num_y))\n",
    "        info_gain.append(muti_info(x,y))\n",
    "    info_gains.append(info_gain)\n",
    "plt.plot(np.asarray(info_gains).mean(axis=0))"
   ]
  },
  {
   "cell_type": "markdown",
   "metadata": {},
   "source": [
    "可以发现一个很有意思的现象，如果特征的取值的个数越多，越容易被选中，这比较好理解，假设一个极端情况，若对每一个实例特征$x$的取值都不同，则其$H(Y|X)$项为0，则$MI(X,Y)=H(Y)-H(Y|X)$将会取得最大值（$H(Y)$与$X$无关），这便是ID3算法的一个痛点，为了矫正这一问题，C4.5算法利用信息增益比作特征选择"
   ]
  },
  {
   "cell_type": "markdown",
   "metadata": {},
   "source": [
    "##### 信息增益比\n",
    "信息增益比其实就是对信息增益除以了一个$x$的熵：  \n",
    "\n",
    "$$\n",
    "\\frac{MI(X,Y)}{H(X)}\n",
    "$$"
   ]
  },
  {
   "cell_type": "code",
   "execution_count": 7,
   "metadata": {},
   "outputs": [],
   "source": [
    "def info_gain_rate(x, y,sample_weight=None):\n",
    "    \"\"\"\n",
    "    信息增益比\n",
    "    \"\"\"\n",
    "    x_num=len(x)\n",
    "    if sample_weight is None:\n",
    "        sample_weight=np.asarray([1.0]*x_num)\n",
    "    return 1.0 * muti_info(x, y,sample_weight) / (1e-12 + entropy(x,sample_weight))"
   ]
  },
  {
   "cell_type": "markdown",
   "metadata": {},
   "source": [
    "接下来再作一次相同的测试："
   ]
  },
  {
   "cell_type": "code",
   "execution_count": 8,
   "metadata": {},
   "outputs": [
    {
     "data": {
      "text/plain": [
       "[<matplotlib.lines.Line2D at 0x243ca23e860>]"
      ]
     },
     "execution_count": 8,
     "metadata": {},
     "output_type": "execute_result"
    },
    {
     "data": {
      "image/png": "[encoded data removed]",
      "text/plain": [
       "<Figure size 432x288 with 1 Axes>"
      ]
     },
     "metadata": {},
     "output_type": "display_data"
    }
   ],
   "source": [
    "#作epochs次测试\n",
    "epochs=100\n",
    "#x的取值的个数：2->class_num_x\n",
    "class_num_x=100\n",
    "#y标签类别数\n",
    "class_num_y=2\n",
    "#样本数量\n",
    "num_samples=500\n",
    "info_gain_rates=[]\n",
    "for _ in range(0,epochs):\n",
    "    info_gain_rate_=[]\n",
    "    for class_x in range(2,class_num_x):\n",
    "        x=[]\n",
    "        y=[]\n",
    "        for _ in range(0,num_samples):\n",
    "            x.append(random.randint(1,class_x))\n",
    "            y.append(random.randint(1,class_num_y))\n",
    "        info_gain_rate_.append(info_gain_rate(x,y))\n",
    "    info_gain_rates.append(info_gain_rate_)\n",
    "plt.plot(np.asarray(info_gain_rates).mean(axis=0))"
   ]
  },
  {
   "cell_type": "markdown",
   "metadata": {},
   "source": [
    "虽然整体还是上升的趋势，当相比于信息增益已经缓解了很多，将它们画一起直观感受一下：  "
   ]
  },
  {
   "cell_type": "code",
   "execution_count": 9,
   "metadata": {},
   "outputs": [
    {
     "data": {
      "text/plain": [
       "[<matplotlib.lines.Line2D at 0x243ca25f588>]"
      ]
     },
     "execution_count": 9,
     "metadata": {},
     "output_type": "execute_result"
    },
    {
     "data": {
      "image/png": "[encoded data removed]",
      "text/plain": [
       "<Figure size 432x288 with 1 Axes>"
      ]
     },
     "metadata": {},
     "output_type": "display_data"
    }
   ],
   "source": [
    "plt.plot(np.asarray(info_gains).mean(axis=0),'r')\n",
    "plt.plot(np.asarray(info_gain_rates).mean(axis=0),'y')"
   ]
  },
  {
   "cell_type": "markdown",
   "metadata": {},
   "source": [
    "#### 2.决策树生成\n",
    "决策树的生成就是一个递归地调用特征选择的过程，首先从根节点开始，利用信息增益/信息增益比选择最佳的特征作为节点特征，由该特征的不同取值建立子节点，然后再对子节点调用以上方法，直到所有特征的信息增益/信息增益比均很小或者没有特征可以选择时停止，最后得到一颗决策树。接下来直接进行代码实现：  "
   ]
  },
  {
   "cell_type": "code",
   "execution_count": 10,
   "metadata": {},
   "outputs": [],
   "source": [
    "import os\n",
    "os.chdir('../')\n",
    "from ml_models import utils\n",
    "from ml_models.wrapper_models import DataBinWrapper\n",
    "\"\"\"\n",
    "ID3和C4.5决策树分类器的实现，放到ml_models.tree模块\n",
    "\"\"\"\n",
    "class DecisionTreeClassifier(object):\n",
    "    class Node(object):\n",
    "        \"\"\"\n",
    "        树节点，用于存储节点信息以及关联子节点\n",
    "        \"\"\"\n",
    "\n",
    "        def __init__(self, feature_index: int = None, target_distribute: dict = None, weight_distribute: dict = None,\n",
    "                     children_nodes: dict = None, num_sample: int = None):\n",
    "            \"\"\"\n",
    "            :param feature_index: 特征id\n",
    "            :param target_distribute: 目标分布\n",
    "            :param weight_distribute:权重分布\n",
    "            :param children_nodes: 孩子节点\n",
    "            :param num_sample:样本量\n",
    "            \"\"\"\n",
    "            self.feature_index = feature_index\n",
    "            self.target_distribute = target_distribute\n",
    "            self.weight_distribute = weight_distribute\n",
    "            self.children_nodes = children_nodes\n",
    "            self.num_sample = num_sample\n",
    "\n",
    "    def __init__(self, criterion='c4.5', max_depth=None, min_samples_split=2, min_samples_leaf=1,\n",
    "                 min_impurity_decrease=0, max_bins=10):\n",
    "        \"\"\"\n",
    "        :param criterion:划分标准，包括id3,c4.5，默认为c4.5\n",
    "        :param max_depth:树的最大深度\n",
    "        :param min_samples_split:当对一个内部结点划分时，要求该结点上的最小样本数，默认为2\n",
    "        :param min_samples_leaf:设置叶子结点上的最小样本数，默认为1\n",
    "        :param min_impurity_decrease:打算划分一个内部结点时，只有当划分后不纯度(可以用criterion参数指定的度量来描述)减少值不小于该参数指定的值，才会对该结点进行划分，默认值为0\n",
    "        \"\"\"\n",
    "        self.criterion = criterion\n",
    "        if criterion == 'c4.5':\n",
    "            self.criterion_func = utils.info_gain_rate\n",
    "        else:\n",
    "            self.criterion_func = utils.muti_info\n",
    "        self.max_depth = max_depth\n",
    "        self.min_samples_split = min_samples_split\n",
    "        self.min_samples_leaf = min_samples_leaf\n",
    "        self.min_impurity_decrease = min_impurity_decrease\n",
    "\n",
    "        self.root_node: self.Node = None\n",
    "        self.sample_weight = None\n",
    "        self.dbw = DataBinWrapper(max_bins=max_bins)\n",
    "\n",
    "    def _build_tree(self, current_depth, current_node: Node, x, y, sample_weight):\n",
    "        \"\"\"\n",
    "        递归进行特征选择，构建树\n",
    "        :param x:\n",
    "        :param y:\n",
    "        :param sample_weight:\n",
    "        :return:\n",
    "        \"\"\"\n",
    "        rows, cols = x.shape\n",
    "        # 计算y分布以及其权重分布\n",
    "        target_distribute = {}\n",
    "        weight_distribute = {}\n",
    "        for index, tmp_value in enumerate(y):\n",
    "            if tmp_value not in target_distribute:\n",
    "                target_distribute[tmp_value] = 0.0\n",
    "                weight_distribute[tmp_value] = []\n",
    "            target_distribute[tmp_value] += 1.0\n",
    "            weight_distribute[tmp_value].append(sample_weight[index])\n",
    "        for key, value in target_distribute.items():\n",
    "            target_distribute[key] = value / rows\n",
    "            weight_distribute[key] = np.mean(weight_distribute[key])\n",
    "        current_node.target_distribute = target_distribute\n",
    "        current_node.weight_distribute = weight_distribute\n",
    "        current_node.num_sample = rows\n",
    "        # 判断停止切分的条件\n",
    "\n",
    "        if len(target_distribute) <= 1:\n",
    "            return\n",
    "\n",
    "        if rows < self.min_samples_split:\n",
    "            return\n",
    "\n",
    "        if self.max_depth is not None and current_depth > self.max_depth:\n",
    "            return\n",
    "\n",
    "        # 寻找最佳的特征\n",
    "        best_index = None\n",
    "        best_criterion_value = 0\n",
    "        for index in range(0, cols):\n",
    "            criterion_value = self.criterion_func(x[:, index], y)\n",
    "            if criterion_value > best_criterion_value:\n",
    "                best_criterion_value = criterion_value\n",
    "                best_index = index\n",
    "\n",
    "        # 如果criterion_value减少不够则停止\n",
    "        if best_index is None:\n",
    "            return\n",
    "        if best_criterion_value <= self.min_impurity_decrease:\n",
    "            return\n",
    "        # 切分\n",
    "        current_node.feature_index = best_index\n",
    "        children_nodes = {}\n",
    "        current_node.children_nodes = children_nodes\n",
    "        selected_x = x[:, best_index]\n",
    "        for item in set(selected_x):\n",
    "            selected_index = np.where(selected_x == item)\n",
    "            # 如果切分后的点太少，以至于都不能做叶子节点，则停止分割\n",
    "            if len(selected_index[0]) < self.min_samples_leaf:\n",
    "                continue\n",
    "            child_node = self.Node()\n",
    "            children_nodes[item] = child_node\n",
    "            self._build_tree(current_depth + 1, child_node, x[selected_index], y[selected_index],\n",
    "                             sample_weight[selected_index])\n",
    "\n",
    "    def fit(self, x, y, sample_weight=None):\n",
    "        # check sample_weight\n",
    "        n_sample = x.shape[0]\n",
    "        if sample_weight is None:\n",
    "            self.sample_weight = np.asarray([1.0] * n_sample)\n",
    "        else:\n",
    "            self.sample_weight = sample_weight\n",
    "        # check sample_weight\n",
    "        if len(self.sample_weight) != n_sample:\n",
    "            raise Exception('sample_weight size error:', len(self.sample_weight))\n",
    "\n",
    "        # 构建空的根节点\n",
    "        self.root_node = self.Node()\n",
    "\n",
    "        # 对x分箱\n",
    "        self.dbw.fit(x)\n",
    "\n",
    "        # 递归构建树\n",
    "        self._build_tree(1, self.root_node, self.dbw.transform(x), y, self.sample_weight)\n",
    "\n",
    "    # 检索叶子节点的结果\n",
    "    def _search_node(self, current_node: Node, x, class_num):\n",
    "        if current_node.feature_index is None or current_node.children_nodes is None or len(\n",
    "                current_node.children_nodes) == 0 or current_node.children_nodes.get(\n",
    "            x[current_node.feature_index]) is None:\n",
    "            result = []\n",
    "            total_value = 0.0\n",
    "            for index in range(0, class_num):\n",
    "                value = current_node.target_distribute.get(index, 0) * current_node.weight_distribute.get(index, 1.0)\n",
    "                result.append(value)\n",
    "                total_value += value\n",
    "            # 归一化\n",
    "            for index in range(0, class_num):\n",
    "                result[index] = result[index] / total_value\n",
    "            return result\n",
    "        else:\n",
    "            return self._search_node(current_node.children_nodes.get(x[current_node.feature_index]), x, class_num)\n",
    "\n",
    "    def predict_proba(self, x):\n",
    "        # 计算结果概率分布\n",
    "        x = self.dbw.transform(x)\n",
    "        rows = x.shape[0]\n",
    "        results = []\n",
    "        class_num = len(self.root_node.target_distribute)\n",
    "        for row in range(0, rows):\n",
    "            results.append(self._search_node(self.root_node, x[row], class_num))\n",
    "        return np.asarray(results)\n",
    "\n",
    "    def predict(self, x):\n",
    "        return np.argmax(self.predict_proba(x), axis=1)"
   ]
  },
  {
   "cell_type": "code",
   "execution_count": 11,
   "metadata": {},
   "outputs": [],
   "source": [
    "#造伪数据\n",
    "from sklearn.datasets import make_classification\n",
    "data, target = make_classification(n_samples=100, n_features=2, n_classes=2, n_informative=1, n_redundant=0,\n",
    "                                   n_repeated=0, n_clusters_per_class=1, class_sep=.5,random_state=21)"
   ]
  },
  {
   "cell_type": "code",
   "execution_count": 12,
   "metadata": {},
   "outputs": [
    {
     "data": {
      "image/png": "[encoded data removed]",
      "text/plain": [
       "<Figure size 432x288 with 1 Axes>"
      ]
     },
     "metadata": {},
     "output_type": "display_data"
    }
   ],
   "source": [
    "#训练查看效果\n",
    "tree = DecisionTreeClassifier(max_bins=15)\n",
    "tree.fit(data, target)\n",
    "utils.plot_decision_function(data, target, tree)"
   ]
  },
  {
   "cell_type": "markdown",
   "metadata": {},
   "source": [
    "可以发现，如果不对决策树施加一些限制，它会尝试创造很细碎的规则去使所有的训练样本正确分类，这无疑会使得模型过拟合，所以接下来需要对其进行减枝操作，避免其过拟合"
   ]
  },
  {
   "cell_type": "markdown",
   "metadata": {},
   "source": [
    "#### 3.决策树剪枝\n",
    "顾名思义，剪掉一些不必要的叶子节点，那么如何确定那些叶子节点需要去掉，哪些不需要去掉呢？这可以通过构建损失函数来量化，如果剪掉某一叶子结点后损失函数能减少，则进行剪枝操作，如果不能减少则不剪枝。一种简单的量化损失函数可以定义如下：  \n",
    "\n",
    "$$\n",
    "C_\\alpha(T)=\\sum_{t=1}^{\\mid T\\mid}N_tH_t(T)+\\alpha\\mid T\\mid\n",
    "$$"
   ]
  },
  {
   "cell_type": "markdown",
   "metadata": {},
   "source": [
    "这里$\\mid T \\mid$表示树$T$的叶结点个数，$t$是树$\\mid T \\mid$的叶结点，该叶节点有$N_t$个样本点，其中$k$类样本点有$N_{tk}$个，$k=1,2,3,...,K$，$H_t(T)$为叶结点$t$上的经验熵，$\\alpha\\geq 0$为超参数，其中：  \n",
    "\n",
    "$$\n",
    "H_t(T)=-\\sum_k\\frac{N_{tk}}{N_t}log\\frac{N_{tk}}{N_t}\n",
    "$$  \n",
    "\n",
    "该损失函数可以分为两部分，第一部分$\\sum_{t=1}^{\\mid T\\mid}N_tH_t(T)$为经验损失，第二部分$\\mid T \\mid$为结构损失，$\\alpha$为调节其平衡度的系数，如果$\\alpha$越大则模型结构越简单，越不容易过拟合，接下来进行剪枝的代码实现：  \n",
    "\n",
    "```python\n",
    "def _prune_node(self, current_node: Node, alpha):\n",
    "        # 如果有子结点,先对子结点部分剪枝\n",
    "        if current_node.children_nodes is not None and len(current_node.children_nodes) != 0:\n",
    "            for child_node in current_node.children_nodes.values():\n",
    "                self._prune_node(child_node, alpha)\n",
    "\n",
    "        # 再尝试对当前结点剪枝\n",
    "        if current_node.children_nodes is not None and len(current_node.children_nodes) != 0:\n",
    "            # 计算剪枝的前的损失值\n",
    "            pre_prune_value = alpha * len(current_node.children_nodes)\n",
    "            for child_node in current_node.children_nodes.values():\n",
    "                for key, value in child_node.target_distribute.items():\n",
    "                    pre_prune_value += -1 * child_node.num_sample * value * np.log(\n",
    "                        value) * child_node.weight_distribute.get(key, 1.0)\n",
    "            # 计算剪枝后的损失值\n",
    "            after_prune_value = alpha\n",
    "            for key, value in current_node.target_distribute.items():\n",
    "                after_prune_value += -1 * current_node.num_sample * value * np.log(\n",
    "                    value) * current_node.weight_distribute.get(key, 1.0)\n",
    "\n",
    "            if after_prune_value <= pre_prune_value:\n",
    "                # 剪枝操作\n",
    "                current_node.children_nodes = None\n",
    "                current_node.feature_index = None\n",
    "\n",
    "    def prune(self, alpha=0.01):\n",
    "        \"\"\"\n",
    "        决策树剪枝 C(T)+alpha*|T|\n",
    "        :param alpha:\n",
    "        :return:\n",
    "        \"\"\"\n",
    "        # 递归剪枝\n",
    "        self._prune_node(self.root_node, alpha)\n",
    "```"
   ]
  },
  {
   "cell_type": "code",
   "execution_count": 13,
   "metadata": {},
   "outputs": [
    {
     "data": {
      "image/png": "[encoded data removed]",
      "text/plain": [
       "<Figure size 432x288 with 1 Axes>"
      ]
     },
     "metadata": {},
     "output_type": "display_data"
    }
   ],
   "source": [
    "from ml_models.tree import DecisionTreeClassifier\n",
    "#训练查看效果\n",
    "tree = DecisionTreeClassifier(max_bins=15)\n",
    "tree.fit(data, target)\n",
    "tree.prune(alpha=1.5)\n",
    "utils.plot_decision_function(data, target, tree)"
   ]
  },
  {
   "cell_type": "markdown",
   "metadata": {},
   "source": [
    "通过探索$\\alpha$，我们可以得到一个比较令人满意的剪枝结果，这样的剪枝方式通常又被称为**后剪枝**，即从一颗完整生成后的树开始剪枝，与其对应的还有**预剪枝**，即在训练过程中就对其进行剪枝操作，这通常需要另外构建一份**验证集**做支持，这里就不实现了，另外比较通常的做法是，通过一些参数来控制模型的复杂度，比如`max_depth`控制树的最大深度，`min_samples_leaf`控制叶子结点的最小样本数，`min_impurity_decrease`控制特征划分后的最小不纯度，`min_samples_split`控制结点划分的最小样本数，通过调节这些参数，同样可以达到剪枝的效果，比如下面通过控制叶结点的最小数量达到了和上面剪枝一样的效果：  "
   ]
  },
  {
   "cell_type": "code",
   "execution_count": 14,
   "metadata": {},
   "outputs": [
    {
     "data": {
      "image/png": "[encoded data removed]",
      "text/plain": [
       "<Figure size 432x288 with 1 Axes>"
      ]
     },
     "metadata": {},
     "output_type": "display_data"
    }
   ],
   "source": [
    "tree = DecisionTreeClassifier(max_bins=15,min_samples_leaf=3)\n",
    "tree.fit(data, target)\n",
    "utils.plot_decision_function(data, target, tree)"
   ]
  },
  {
   "cell_type": "markdown",
   "metadata": {},
   "source": [
    "### 决策树另外一种理解：条件概率分布\n",
    "决策树还可以看作是给定特征条件下类的条件概率分布：  \n",
    "\n",
    "（1）训练时，决策树会将特征空间划分为大大小小互不相交的区域，而每个区域对应了一个类的概率分布；  \n",
    "\n",
    "（2）预测时，落到某区域的样本点的类标签即是该区域对应概率最大的那个类"
   ]
  },
  {
   "cell_type": "code",
   "execution_count": null,
   "metadata": {},
   "outputs": [],
   "source": []
  }
 ],
 "metadata": {
  "kernelspec": {
   "display_name": "Python 3",
   "language": "python",
   "name": "python3"
  },
  "language_info": {
   "codemirror_mode": {
    "name": "ipython",
    "version": 3
   },
   "file_extension": ".py",
   "mimetype": "text/x-python",
   "name": "python",
   "nbconvert_exporter": "python",
   "pygments_lexer": "ipython3",
   "version": "3.6.5"
  }
 },
 "nbformat": 4,
 "nbformat_minor": 2
}
