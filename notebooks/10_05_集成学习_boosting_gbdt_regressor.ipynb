{
 "cells": [
  {
   "cell_type": "markdown",
   "metadata": {},
   "source": [
    "### 一.简介\n",
    "上一节已经介绍了提升树的算法流程，这一节只需要将下面的优化过程替换成求解具体的梯度即可：   \n",
    "\n",
    "$$\n",
    "w_m^*=arg\\min_{w_m}\\sum_{i=1}^NL(y_i,f_{m-1}(x_i)+T(x_i,w_m))\n",
    "$$    \n",
    "\n",
    "（1）对于平方误差，其负梯度计算如下：   \n",
    "\n",
    "$$\n",
    "y-f_{m-1}(x)\n",
    "$$   \n",
    "\n",
    "（2）对于绝对误差，其负梯度计算如下：   \n",
    "\n",
    "$$\n",
    "sign(y-f_{m-1}(x))\n",
    "$$   \n",
    "\n",
    "（3）对于Huber损失函数，其负梯度计算：  \n",
    "\n",
    "$$\n",
    "\\left\\{\\begin{matrix}\n",
    "y-f_{m-1}(x) & \\mid y-f_{m-1}(x) \\mid < \\delta\\\\\n",
    "\\delta\\cdot sign(y-f_{m-1}(x)) & otherwise\n",
    "\\end{matrix}\\right.\n",
    "$$\n",
    "\n",
    "这三种损失函数的特点：  \n",
    "\n",
    "（1）平方误差对$>1$的错误会进行放大，所以对离群点比较敏感；  \n",
    "\n",
    "（2）而绝对误差可以避免这个问题，但在极小点附近，可能会由于梯度偏大而跨过极小点；  \n",
    "\n",
    "（3）所以Huber结合了两者的优点，在loss较大时，采用绝对误差，避免过拟合，在loss较小时，采用平方误差，更易收敛\n",
    "\n",
    "接下来直接进行代码实现\n",
    "\n",
    "### 二.代码实现"
   ]
  },
  {
   "cell_type": "code",
   "execution_count": 1,
   "metadata": {},
   "outputs": [],
   "source": [
    "import os\n",
    "os.chdir('../')\n",
    "from ml_models.tree import CARTRegressor\n",
    "import copy\n",
    "import numpy as np\n",
    "import matplotlib.pyplot as plt\n",
    "%matplotlib inline\n",
    "\n",
    "\n",
    "\"\"\"\n",
    "梯度提升回归树，封装到ml_models.ensemble\n",
    "\"\"\"\n",
    "\n",
    "\n",
    "class GradientBoostingRegressor(object):\n",
    "    def __init__(self, base_estimator=None, n_estimators=10, learning_rate=1.0, loss='ls', huber_threshold=1e-1):\n",
    "        \"\"\"\n",
    "        :param base_estimator: 基学习器，允许异质；异质的情况下使用列表传入比如[estimator1,estimator2,...,estimator10],这时n_estimators会失效；\n",
    "                                同质的情况，单个estimator会被copy成n_estimators份\n",
    "        :param n_estimators: 基学习器迭代数量\n",
    "        :param learning_rate: 学习率，降低后续基学习器的权重，避免过拟合\n",
    "        :param loss:表示损失函数ls表示平方误差,lae表示绝对误差,huber表示huber损失\n",
    "        :param huber_threshold:huber损失阈值，只有在loss=huber时生效\n",
    "        \"\"\"\n",
    "        self.base_estimator = base_estimator\n",
    "        self.n_estimators = n_estimators\n",
    "        self.learning_rate = learning_rate\n",
    "        if self.base_estimator is None:\n",
    "            # 默认使用决策树桩\n",
    "            self.base_estimator = CARTRegressor(max_depth=2)\n",
    "        # 同质分类器\n",
    "        if type(base_estimator) != list:\n",
    "            estimator = self.base_estimator\n",
    "            self.base_estimator = [copy.deepcopy(estimator) for _ in range(0, self.n_estimators)]\n",
    "        # 异质分类器\n",
    "        else:\n",
    "            self.n_estimators = len(self.base_estimator)\n",
    "        self.loss = loss\n",
    "        self.huber_threshold = huber_threshold\n",
    "\n",
    "    def _get_gradient(self, y, y_pred):\n",
    "        if self.loss == 'ls':\n",
    "            return y - y_pred\n",
    "        elif self.loss == 'lae':\n",
    "            return (y - y_pred > 0).astype(int) * 2 - 1\n",
    "        elif self.loss == 'huber':\n",
    "            return np.where(np.abs(y - y_pred) > self.huber_threshold,\n",
    "                            self.huber_threshold * ((y - y_pred > 0).astype(int) * 2 - 1), y - y_pred)\n",
    "\n",
    "    def fit(self, x, y):\n",
    "        # 拟合第一个模型\n",
    "        self.base_estimator[0].fit(x, y)\n",
    "        y_pred = self.base_estimator[0].predict(x)\n",
    "        new_y = self._get_gradient(y, y_pred)\n",
    "        for index in range(1, self.n_estimators):\n",
    "            self.base_estimator[index].fit(x, new_y)\n",
    "            y_pred += self.base_estimator[index].predict(x) * self.learning_rate\n",
    "            new_y = self._get_gradient(y, y_pred)\n",
    "\n",
    "    def predict(self, x):\n",
    "        return np.sum(\n",
    "            [self.base_estimator[0].predict(x)] +\n",
    "            [self.learning_rate * self.base_estimator[i].predict(x) for i in\n",
    "             range(1, self.n_estimators - 1)] +\n",
    "            [self.base_estimator[self.n_estimators - 1].predict(x)]\n",
    "            , axis=0)"
   ]
  },
  {
   "cell_type": "code",
   "execution_count": 2,
   "metadata": {},
   "outputs": [],
   "source": [
    "#构造数据\n",
    "data = np.linspace(1, 10, num=100)\n",
    "target1 = 3*data[:50] + np.random.random(size=50)*3#添加噪声\n",
    "target2 = 3*data[50:] + np.random.random(size=50)*10#添加噪声\n",
    "target=np.concatenate([target1,target2])\n",
    "data = data.reshape((-1, 1))"
   ]
  },
  {
   "cell_type": "code",
   "execution_count": 3,
   "metadata": {},
   "outputs": [
    {
     "data": {
      "text/plain": [
       "[<matplotlib.lines.Line2D at 0x1bad0455748>]"
      ]
     },
     "execution_count": 3,
     "metadata": {},
     "output_type": "execute_result"
    },
    {
     "data": {
      "image/png": "[encoded data removed]",
      "text/plain": [
       "<matplotlib.figure.Figure at 0x1bad0455e80>"
      ]
     },
     "metadata": {},
     "output_type": "display_data"
    }
   ],
   "source": [
    "#同质\n",
    "model=GradientBoostingRegressor(base_estimator=CARTRegressor(),n_estimators=3)\n",
    "model.fit(data,target)\n",
    "plt.scatter(data, target)\n",
    "plt.plot(data, model.predict(data), color='r')"
   ]
  },
  {
   "cell_type": "code",
   "execution_count": 4,
   "metadata": {},
   "outputs": [
    {
     "data": {
      "text/plain": [
       "[<matplotlib.lines.Line2D at 0x1bad04556d8>]"
      ]
     },
     "execution_count": 4,
     "metadata": {},
     "output_type": "execute_result"
    },
    {
     "data": {
      "image/png": "[encoded data removed]",
      "text/plain": [
       "<matplotlib.figure.Figure at 0x1bad0418fd0>"
      ]
     },
     "metadata": {},
     "output_type": "display_data"
    }
   ],
   "source": [
    "#异质\n",
    "from ml_models.linear_model import LinearRegression\n",
    "model=GradientBoostingRegressor(base_estimator=[LinearRegression(),CARTRegressor(),CARTRegressor()])\n",
    "model.fit(data,target)\n",
    "plt.scatter(data, target)\n",
    "plt.plot(data, model.predict(data), color='r')"
   ]
  },
  {
   "cell_type": "code",
   "execution_count": null,
   "metadata": {},
   "outputs": [],
   "source": []
  }
 ],
 "metadata": {
  "kernelspec": {
   "display_name": "Python 3",
   "language": "python",
   "name": "python3"
  },
  "language_info": {
   "codemirror_mode": {
    "name": "ipython",
    "version": 3
   },
   "file_extension": ".py",
   "mimetype": "text/x-python",
   "name": "python",
   "nbconvert_exporter": "python",
   "pygments_lexer": "ipython3",
   "version": "3.6.4"
  }
 },
 "nbformat": 4,
 "nbformat_minor": 2
}
